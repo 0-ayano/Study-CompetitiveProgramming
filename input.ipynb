{
 "cells": [
  {
   "cell_type": "markdown",
   "metadata": {},
   "source": [
    "# 入力系"
   ]
  },
  {
   "cell_type": "code",
   "execution_count": null,
   "metadata": {},
   "outputs": [],
   "source": [
    "# 入力が１行で数個の場合\n",
    "X,Y = map(int,input().split())"
   ]
  },
  {
   "cell_type": "code",
   "execution_count": null,
   "metadata": {},
   "outputs": [],
   "source": [
    "# 入力が１行で多数の場合\n",
    "mat = list(map(int, input().split()))"
   ]
  },
  {
   "cell_type": "code",
   "execution_count": null,
   "metadata": {},
   "outputs": [],
   "source": [
    "# 入力が複数行で各行に１つずつの場合\n",
    "N = int( input() )\n",
    "mat = [int(input()) for _ in range(N)]"
   ]
  },
  {
   "cell_type": "markdown",
   "metadata": {},
   "source": [
    "# 参考\n",
    "- [～ 入力 ～ チートシート](https://qiita.com/ysys_Ba/items/ad72f5df3cfb173459bd)"
   ]
  }
 ],
 "metadata": {
  "kernelspec": {
   "display_name": "Python 3.10.5 64-bit",
   "language": "python",
   "name": "python3"
  },
  "language_info": {
   "name": "python",
   "version": "3.10.5"
  },
  "orig_nbformat": 4,
  "vscode": {
   "interpreter": {
    "hash": "aed8307324385484f12c76a97da1f17a1b37ac262b1d56cb52dcf1c3a6c74e9f"
   }
  }
 },
 "nbformat": 4,
 "nbformat_minor": 2
}
